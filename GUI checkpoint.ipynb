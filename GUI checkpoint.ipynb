{
 "cells": [
  {
   "cell_type": "code",
   "execution_count": 1,
   "id": "33adaa73",
   "metadata": {},
   "outputs": [],
   "source": [
    "import tkinter as tk\n",
    "\n",
    "def convert_temperature():\n",
    "    try:\n",
    "        # Get the input temperature in Fahrenheit from the user\n",
    "        fahrenheit = float(entry.get())\n",
    "\n",
    "        # Convert Fahrenheit to Celsius\n",
    "        celsius = (fahrenheit - 32) * 5/9\n",
    "\n",
    "        # Update the result label with the converted temperature\n",
    "        result_label.config(text=f\"{fahrenheit}°F is {celsius:.2f}°C\")\n",
    "    except ValueError:\n",
    "        # Handle invalid input\n",
    "        result_label.config(text=\"Invalid input. Please enter a valid temperature.\")\n",
    "\n",
    "# Create the main window\n",
    "window = tk.Tk()\n",
    "window.title(\"Temperature Converter\")\n",
    "\n",
    "# Create and place widgets in the main window\n",
    "label = tk.Label(window, text=\"Enter temperature in Fahrenheit:\")\n",
    "label.pack()\n",
    "\n",
    "entry = tk.Entry(window)\n",
    "entry.pack()\n",
    "\n",
    "convert_button = tk.Button(window, text=\"Convert\", command=convert_temperature)\n",
    "convert_button.pack()\n",
    "\n",
    "result_label = tk.Label(window, text=\"\")\n",
    "result_label.pack()\n",
    "\n",
    "# Start the Tkinter main loop\n",
    "window.mainloop()"
   ]
  },
  {
   "cell_type": "code",
   "execution_count": null,
   "id": "cfcb4106",
   "metadata": {},
   "outputs": [],
   "source": []
  }
 ],
 "metadata": {
  "kernelspec": {
   "display_name": "Python 3 (ipykernel)",
   "language": "python",
   "name": "python3"
  },
  "language_info": {
   "codemirror_mode": {
    "name": "ipython",
    "version": 3
   },
   "file_extension": ".py",
   "mimetype": "text/x-python",
   "name": "python",
   "nbconvert_exporter": "python",
   "pygments_lexer": "ipython3",
   "version": "3.10.9"
  }
 },
 "nbformat": 4,
 "nbformat_minor": 5
}
